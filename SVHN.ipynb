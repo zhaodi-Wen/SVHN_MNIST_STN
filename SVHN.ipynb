{
 "cells": [
  {
   "cell_type": "code",
   "execution_count": 2,
   "metadata": {},
   "outputs": [
    {
     "name": "stderr",
     "output_type": "stream",
     "text": [
      "/home/wzd/anaconda3/lib/python3.6/site-packages/h5py/__init__.py:36: FutureWarning: Conversion of the second argument of issubdtype from `float` to `np.floating` is deprecated. In future, it will be treated as `np.float64 == np.dtype(float).type`.\n",
      "  from ._conv import register_converters as _register_converters\n"
     ]
    }
   ],
   "source": [
    "import h5py\n",
    "import numpy as np"
   ]
  },
  {
   "cell_type": "code",
   "execution_count": 3,
   "metadata": {},
   "outputs": [],
   "source": [
    "def getName(dataset, index):\n",
    "    names = dataset[\"digitStruct\"][\"name\"]\n",
    "    return ''.join([chr(c[0]) for c in dataset[names[index][0]].value])"
   ]
  },
  {
   "cell_type": "code",
   "execution_count": 4,
   "metadata": {},
   "outputs": [],
   "source": [
    "test_dataset = h5py.File(\"data/test/digitStruct.mat\", \"r\")"
   ]
  },
  {
   "cell_type": "code",
   "execution_count": 5,
   "metadata": {},
   "outputs": [
    {
     "data": {
      "image/png": "[encoded data removed]",
      "text/plain": [
       "<PIL.PngImagePlugin.PngImageFile image mode=RGB size=54x21 at 0x7FF30E4E2240>"
      ]
     },
     "execution_count": 5,
     "metadata": {},
     "output_type": "execute_result"
    }
   ],
   "source": [
    "from PIL import Image\n",
    "\n",
    "Image.open(\"data/test/\" + getName(test_dataset, 100))"
   ]
  },
  {
   "cell_type": "code",
   "execution_count": 6,
   "metadata": {},
   "outputs": [],
   "source": [
    "def bboxHelper(dataset, attr):\n",
    "    if (len(attr) > 1):\n",
    "        attr = [dataset[attr.value[j].item()].value[0][0] for j in range(len(attr))]\n",
    "    else:\n",
    "        attr = [attr.value[0][0]]\n",
    "        \n",
    "    return attr\n",
    "\n",
    "def getBbox(dataset, index):\n",
    "    item = dataset[dataset[\"digitStruct\"][\"bbox\"][index].item()]\n",
    "    \n",
    "    return {\n",
    "        \"height\": bboxHelper(dataset, item[\"height\"]),\n",
    "        \"label\": bboxHelper(dataset, item[\"label\"]),\n",
    "        \"left\": bboxHelper(dataset, item[\"left\"]),\n",
    "        \"top\": bboxHelper(dataset, item[\"top\"]),\n",
    "        \"width\": bboxHelper(dataset, item[\"width\"]),\n",
    "    }"
   ]
  },
  {
   "cell_type": "code",
   "execution_count": 7,
   "metadata": {},
   "outputs": [
    {
     "data": {
      "text/plain": [
       "{'height': [19.0, 19.0, 19.0],\n",
       " 'label': [1.0, 1.0, 9.0],\n",
       " 'left': [66.0, 72.0, 79.0],\n",
       " 'top': [28.0, 29.0, 29.0],\n",
       " 'width': [10.0, 9.0, 13.0]}"
      ]
     },
     "execution_count": 7,
     "metadata": {},
     "output_type": "execute_result"
    }
   ],
   "source": [
    "getBbox(test_dataset, 1000)  # every digit has a box\n"
   ]
  },
  {
   "cell_type": "code",
   "execution_count": 8,
   "metadata": {},
   "outputs": [],
   "source": [
    "def getWholeBox(dataset, index, im):\n",
    "    bbox = getBbox(dataset, index)\n",
    "    \n",
    "    im_left = min(bbox[\"left\"])\n",
    "    im_top = min(bbox[\"top\"])\n",
    "    im_height = max(bbox[\"top\"]) + max(bbox[\"height\"]) - im_top\n",
    "    im_width = max(bbox[\"left\"]) + max(bbox[\"width\"]) - im_left\n",
    "    \n",
    "    im_top = im_top - im_height * 0.05 # a bit higher\n",
    "    im_left = im_left - im_width * 0.05 # a bit wider\n",
    "    im_bottom = min(im.size[1], im_top + im_height * 1.05)\n",
    "    im_right = min(im.size[0], im_left + im_width * 1.05)\n",
    "    \n",
    "    return {\n",
    "        \"label\": bbox[\"label\"],\n",
    "        \"left\": im_left,\n",
    "        \"top\": im_top,\n",
    "        \"right\": im_right,\n",
    "        \"bottom\": im_bottom\n",
    "    }"
   ]
  },
  {
   "cell_type": "code",
   "execution_count": 9,
   "metadata": {},
   "outputs": [
    {
     "data": {
      "text/plain": [
       "{'bottom': 16.0, 'label': [1.0, 2.0], 'left': 20.2, 'right': 37.0, 'top': 2.35}"
      ]
     },
     "execution_count": 9,
     "metadata": {},
     "output_type": "execute_result"
    }
   ],
   "source": [
    "im = Image.open(\"data/test/\" + getName(test_dataset, 1000))\n",
    "getWholeBox(test_dataset, 100, im)"
   ]
  },
  {
   "cell_type": "code",
   "execution_count": 10,
   "metadata": {},
   "outputs": [
    {
     "data": {
      "image/png": "[encoded data removed]",
      "text/plain": [
       "<PIL.Image.Image image mode=RGB size=32x32 at 0x7FF311CA96D8>"
      ]
     },
     "execution_count": 10,
     "metadata": {},
     "output_type": "execute_result"
    }
   ],
   "source": [
    "box = getWholeBox(test_dataset, 100, im)\n",
    "\n",
    "im = im.crop((box[\"left\"], box[\"top\"], box[\"right\"], box[\"bottom\"]))\n",
    "im.resize((32,32))"
   ]
  },
  {
   "cell_type": "code",
   "execution_count": 11,
   "metadata": {},
   "outputs": [
    {
     "name": "stderr",
     "output_type": "stream",
     "text": [
      "Using TensorFlow backend.\n"
     ]
    }
   ],
   "source": [
    "from keras.utils import np_utils\n",
    "\n",
    "test_count = test_dataset[\"digitStruct\"][\"name\"].shape[0]\n",
    "\n",
    "X_test = np.ndarray(shape=(test_count, 32, 32, 3), dtype='float32')\n",
    "y = {\n",
    "    0: np.zeros(test_count),\n",
    "    1: np.ones(test_count) * 10,\n",
    "    2: np.ones(test_count) * 10,\n",
    "    3: np.ones(test_count) * 10,\n",
    "    4: np.ones(test_count) * 10,\n",
    "    5: np.ones(test_count) * 10\n",
    "}\n",
    "\n",
    "for i in range(test_count):\n",
    "    im = Image.open(\"data/test/\" + getName(test_dataset, i))\n",
    "    box = getWholeBox(test_dataset, i, im)\n",
    "    if len(box[\"label\"]) > 3:\n",
    "        continue\n",
    "    im = im.crop((box[\"left\"], box[\"top\"], box[\"right\"], box[\"bottom\"])).resize((32, 32))\n",
    "\n",
    "    X_test[i, :, :, :] = np.array(im.resize((32, 32)), dtype='float32')\n",
    "\n",
    "    labels = box[\"label\"]\n",
    "\n",
    "    y[0][i] = len(labels)\n",
    "\n",
    "    for j in range(0, 3):\n",
    "        if j < len(labels):\n",
    "            if labels[j] == 10:\n",
    "                y[j + 1][i] = 10\n",
    "            else:\n",
    "                y[j + 1][i] = int(labels[j])\n",
    "        else:\n",
    "            y[j + 1][i] = 10\n",
    "\n",
    "    # if i % 500 == 0:\n",
    "    #     print(i, len(y[0]))\n",
    "\n",
    "y_test = [\n",
    "    np_utils.to_categorical(y[0]),\n",
    "    np_utils.to_categorical(y[1]),\n",
    "    np_utils.to_categorical(y[2]),\n",
    "    np_utils.to_categorical(y[3])\n",
    "]\n"
   ]
  },
  {
   "cell_type": "code",
   "execution_count": 12,
   "metadata": {},
   "outputs": [],
   "source": [
    "# %load layers.py\n",
    "from keras import backend as K\n",
    "from keras.engine.topology import Layer\n",
    "\n",
    "if K.backend() == 'tensorflow':\n",
    "    import tensorflow as tf\n",
    "\n",
    "    def K_meshgrid(x, y):\n",
    "        return tf.meshgrid(x, y)\n",
    "\n",
    "    def K_linspace(start, stop, num):\n",
    "        return tf.linspace(start, stop, num)\n",
    "\n",
    "else:\n",
    "    raise Exception(\"Only 'tensorflow' is supported as backend\")\n",
    "\n",
    "\n",
    "class BilinearInterpolation(Layer):\n",
    "    \"\"\"Performs bilinear interpolation as a keras layer\n",
    "    References\n",
    "    ----------\n",
    "    [1]  Spatial Transformer Networks, Max Jaderberg, et al.\n",
    "    [2]  https://github.com/skaae/transformer_network\n",
    "    [3]  https://github.com/EderSantana/seya\n",
    "    \"\"\"\n",
    "\n",
    "    def __init__(self, output_size, **kwargs):\n",
    "        self.output_size = output_size\n",
    "        super(BilinearInterpolation, self).__init__(**kwargs)\n",
    "\n",
    "    def compute_output_shape(self, input_shapes):\n",
    "        height, width = self.output_size\n",
    "        num_channels = input_shapes[0][-1]\n",
    "        return (None, height, width, num_channels)\n",
    "\n",
    "    def call(self, tensors, mask=None):\n",
    "        X, transformation = tensors\n",
    "        output = self._transform(X, transformation, self.output_size)\n",
    "        return output\n",
    "\n",
    "    def _interpolate(self, image, sampled_grids, output_size):\n",
    "\n",
    "        batch_size = K.shape(image)[0]\n",
    "        height = K.shape(image)[1]\n",
    "        width = K.shape(image)[2]\n",
    "        num_channels = K.shape(image)[3]\n",
    "\n",
    "        x = K.cast(K.flatten(sampled_grids[:, 0:1, :]), dtype='float32')\n",
    "        y = K.cast(K.flatten(sampled_grids[:, 1:2, :]), dtype='float32')\n",
    "\n",
    "        x = .5 * (x + 1.0) * K.cast(width, dtype='float32')\n",
    "        y = .5 * (y + 1.0) * K.cast(height, dtype='float32')\n",
    "\n",
    "        x0 = K.cast(x, 'int32')\n",
    "        x1 = x0 + 1\n",
    "        y0 = K.cast(y, 'int32')\n",
    "        y1 = y0 + 1\n",
    "\n",
    "        max_x = int(K.int_shape(image)[2] - 1)\n",
    "        max_y = int(K.int_shape(image)[1] - 1)\n",
    "\n",
    "        x0 = K.clip(x0, 0, max_x)\n",
    "        x1 = K.clip(x1, 0, max_x)\n",
    "        y0 = K.clip(y0, 0, max_y)\n",
    "        y1 = K.clip(y1, 0, max_y)\n",
    "\n",
    "        pixels_batch = K.arange(0, batch_size) * (height * width)\n",
    "        pixels_batch = K.expand_dims(pixels_batch, axis=-1)\n",
    "        flat_output_size = output_size[0] * output_size[1]\n",
    "        base = K.repeat_elements(pixels_batch, flat_output_size, axis=1)\n",
    "        base = K.flatten(base)\n",
    "\n",
    "        # base_y0 = base + (y0 * width)\n",
    "        base_y0 = y0 * width\n",
    "        base_y0 = base + base_y0\n",
    "        # base_y1 = base + (y1 * width)\n",
    "        base_y1 = y1 * width\n",
    "        base_y1 = base_y1 + base\n",
    "\n",
    "        indices_a = base_y0 + x0\n",
    "        indices_b = base_y1 + x0\n",
    "        indices_c = base_y0 + x1\n",
    "        indices_d = base_y1 + x1\n",
    "\n",
    "        flat_image = K.reshape(image, shape=(-1, num_channels))\n",
    "        flat_image = K.cast(flat_image, dtype='float32')\n",
    "        pixel_values_a = K.gather(flat_image, indices_a)\n",
    "        pixel_values_b = K.gather(flat_image, indices_b)\n",
    "        pixel_values_c = K.gather(flat_image, indices_c)\n",
    "        pixel_values_d = K.gather(flat_image, indices_d)\n",
    "\n",
    "        x0 = K.cast(x0, 'float32')\n",
    "        x1 = K.cast(x1, 'float32')\n",
    "        y0 = K.cast(y0, 'float32')\n",
    "        y1 = K.cast(y1, 'float32')\n",
    "\n",
    "        area_a = K.expand_dims(((x1 - x) * (y1 - y)), 1)\n",
    "        area_b = K.expand_dims(((x1 - x) * (y - y0)), 1)\n",
    "        area_c = K.expand_dims(((x - x0) * (y1 - y)), 1)\n",
    "        area_d = K.expand_dims(((x - x0) * (y - y0)), 1)\n",
    "\n",
    "        values_a = area_a * pixel_values_a\n",
    "        values_b = area_b * pixel_values_b\n",
    "        values_c = area_c * pixel_values_c\n",
    "        values_d = area_d * pixel_values_d\n",
    "        return values_a + values_b + values_c + values_d\n",
    "\n",
    "    def _make_regular_grids(self, batch_size, height, width):\n",
    "        # making a single regular grid\n",
    "        x_linspace = K_linspace(-1., 1., width)\n",
    "        y_linspace = K_linspace(-1., 1., height)\n",
    "        x_coordinates, y_coordinates = K_meshgrid(x_linspace, y_linspace)\n",
    "        x_coordinates = K.flatten(x_coordinates)\n",
    "        y_coordinates = K.flatten(y_coordinates)\n",
    "        ones = K.ones_like(x_coordinates)\n",
    "        grid = K.concatenate([x_coordinates, y_coordinates, ones], 0)\n",
    "\n",
    "        # repeating grids for each batch\n",
    "        grid = K.flatten(grid)\n",
    "        grids = K.tile(grid, K.stack([batch_size]))\n",
    "        return K.reshape(grids, (batch_size, 3, height * width))\n",
    "\n",
    "    def _transform(self, X, affine_transformation, output_size):\n",
    "        batch_size, num_channels = K.shape(X)[0], K.shape(X)[3]\n",
    "        transformations = K.reshape(affine_transformation,\n",
    "                                    shape=(batch_size, 2, 3))\n",
    "        # transformations = K.cast(affine_transformation[:, 0:2, :], 'float32')\n",
    "        regular_grids = self._make_regular_grids(batch_size, *output_size)\n",
    "        sampled_grids = K.batch_dot(transformations, regular_grids)\n",
    "        interpolated_image = self._interpolate(X, sampled_grids, output_size)\n",
    "        new_shape = (batch_size, output_size[0], output_size[1], num_channels)\n",
    "        interpolated_image = K.reshape(interpolated_image, new_shape)\n",
    "        return interpolated_image\n"
   ]
  },
  {
   "cell_type": "code",
   "execution_count": 13,
   "metadata": {},
   "outputs": [
    {
     "name": "stdout",
     "output_type": "stream",
     "text": [
      "__________________________________________________________________________________________________\n",
      "Layer (type)                    Output Shape         Param #     Connected to                     \n",
      "==================================================================================================\n",
      "input_1 (InputLayer)            (None, 32, 32, 3)    0                                            \n",
      "__________________________________________________________________________________________________\n",
      "batch_normalization_1 (BatchNor (None, 32, 32, 3)    12          input_1[0][0]                    \n",
      "__________________________________________________________________________________________________\n",
      "conv2d_1 (Conv2D)               (None, 32, 32, 32)   4736        batch_normalization_1[0][0]      \n",
      "__________________________________________________________________________________________________\n",
      "max_pooling2d_1 (MaxPooling2D)  (None, 16, 16, 32)   0           conv2d_1[0][0]                   \n",
      "__________________________________________________________________________________________________\n",
      "batch_normalization_2 (BatchNor (None, 16, 16, 32)   128         max_pooling2d_1[0][0]            \n",
      "__________________________________________________________________________________________________\n",
      "conv2d_2 (Conv2D)               (None, 12, 12, 64)   51264       batch_normalization_2[0][0]      \n",
      "__________________________________________________________________________________________________\n",
      "max_pooling2d_2 (MaxPooling2D)  (None, 6, 6, 64)     0           conv2d_2[0][0]                   \n",
      "__________________________________________________________________________________________________\n",
      "batch_normalization_3 (BatchNor (None, 6, 6, 64)     256         max_pooling2d_2[0][0]            \n",
      "__________________________________________________________________________________________________\n",
      "conv2d_3 (Conv2D)               (None, 4, 4, 256)    147712      batch_normalization_3[0][0]      \n",
      "__________________________________________________________________________________________________\n",
      "max_pooling2d_3 (MaxPooling2D)  (None, 2, 2, 256)    0           conv2d_3[0][0]                   \n",
      "__________________________________________________________________________________________________\n",
      "dropout_1 (Dropout)             (None, 2, 2, 256)    0           max_pooling2d_3[0][0]            \n",
      "__________________________________________________________________________________________________\n",
      "flatten_1 (Flatten)             (None, 1024)         0           dropout_1[0][0]                  \n",
      "__________________________________________________________________________________________________\n",
      "dense_1 (Dense)                 (None, 1024)         1049600     flatten_1[0][0]                  \n",
      "__________________________________________________________________________________________________\n",
      "dense_2 (Dense)                 (None, 512)          524800      dense_1[0][0]                    \n",
      "__________________________________________________________________________________________________\n",
      "l1 (Dense)                      (None, 4)            2052        dense_2[0][0]                    \n",
      "__________________________________________________________________________________________________\n",
      "l2 (Dense)                      (None, 11)           5643        dense_2[0][0]                    \n",
      "__________________________________________________________________________________________________\n",
      "l3 (Dense)                      (None, 11)           5643        dense_2[0][0]                    \n",
      "__________________________________________________________________________________________________\n",
      "l4 (Dense)                      (None, 11)           5643        dense_2[0][0]                    \n",
      "==================================================================================================\n",
      "Total params: 1,797,489\n",
      "Trainable params: 1,797,291\n",
      "Non-trainable params: 198\n",
      "__________________________________________________________________________________________________\n"
     ]
    }
   ],
   "source": [
    "from keras.models import Sequential, load_model\n",
    "from utils import get_initial_weights\n",
    "from layers import BilinearInterpolation\n",
    "# import layers\n",
    "model = load_model('h5_json/model.h5')\n",
    "model.summary()"
   ]
  },
  {
   "cell_type": "code",
   "execution_count": 35,
   "metadata": {},
   "outputs": [
    {
     "data": {
      "image/png": "[encoded data removed]",
      "text/plain": [
       "<matplotlib.figure.Figure at 0x7ff261e7d710>"
      ]
     },
     "metadata": {},
     "output_type": "display_data"
    }
   ],
   "source": [
    "import matplotlib.pyplot as plt\n",
    "X = X_test[32]\n",
    "plt.imshow(X)\n",
    "plt.show()"
   ]
  },
  {
   "cell_type": "code",
   "execution_count": 36,
   "metadata": {},
   "outputs": [
    {
     "data": {
      "image/png": "[encoded data removed]",
      "text/plain": [
       "<matplotlib.figure.Figure at 0x7ff261ed5198>"
      ]
     },
     "metadata": {},
     "output_type": "display_data"
    }
   ],
   "source": [
    "from PIL import Image\n",
    "Img = Image.open('data/test/33.png')\n",
    "plt.imshow(Img)\n",
    "plt.show()"
   ]
  },
  {
   "cell_type": "code",
   "execution_count": 27,
   "metadata": {},
   "outputs": [],
   "source": [
    "\n",
    "y_pred = model.predict(X.reshape(1,32,32,3))"
   ]
  },
  {
   "cell_type": "code",
   "execution_count": 28,
   "metadata": {},
   "outputs": [
    {
     "data": {
      "text/plain": [
       "[array([[6.018373e-24, 1.140418e-06, 9.999950e-01, 3.844091e-06]],\n",
       "       dtype=float32),\n",
       " array([[1.02140162e-34, 9.99899387e-01, 5.25800942e-07, 8.42366990e-06,\n",
       "         8.35054379e-05, 2.23980976e-08, 3.83078714e-06, 3.69597569e-06,\n",
       "         4.69210335e-07, 1.00354896e-07, 2.15730855e-09]], dtype=float32),\n",
       " array([[7.9378259e-34, 8.2009828e-06, 8.9316279e-09, 8.6578467e-07,\n",
       "         2.2834145e-05, 2.4039326e-04, 9.9240100e-01, 1.3847858e-08,\n",
       "         4.0341374e-03, 1.4148941e-06, 3.2910726e-03]], dtype=float32),\n",
       " array([[8.7453671e-32, 8.1552356e-09, 3.9718440e-10, 9.4166410e-08,\n",
       "         2.8671692e-11, 3.4552227e-07, 1.8944725e-07, 1.2168323e-10,\n",
       "         1.7187748e-08, 5.6492890e-09, 9.9999940e-01]], dtype=float32)]"
      ]
     },
     "execution_count": 28,
     "metadata": {},
     "output_type": "execute_result"
    }
   ],
   "source": [
    "y_pred"
   ]
  },
  {
   "cell_type": "code",
   "execution_count": 29,
   "metadata": {},
   "outputs": [
    {
     "name": "stdout",
     "output_type": "stream",
     "text": [
      "预测数字数目  2\n",
      "预测数字为  16\n"
     ]
    }
   ],
   "source": [
    "def new_print(y_pred):\n",
    "    print('预测数字数目 ',np.argmax(y_pred[0],axis=1)[0])\n",
    "    a=[]\n",
    "    for i in range(1,4):\n",
    "        if(np.argmax(y_pred[i],axis=1)[0]==10):\n",
    "            a.append('')\n",
    "        else:\n",
    "            a.append(str(np.argmax(y_pred[i],axis=1)[0]))\n",
    "    print('预测数字为 ',''.join(a))       \n",
    "        \n",
    "new_print(y_pred)"
   ]
  },
  {
   "cell_type": "code",
   "execution_count": null,
   "metadata": {},
   "outputs": [],
   "source": []
  },
  {
   "cell_type": "code",
   "execution_count": null,
   "metadata": {},
   "outputs": [],
   "source": []
  }
 ],
 "metadata": {
  "kernelspec": {
   "display_name": "Python 3",
   "language": "python",
   "name": "python3"
  }
 },
 "nbformat": 4,
 "nbformat_minor": 2
}
